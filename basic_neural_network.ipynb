{
  "cells": [
    {
      "cell_type": "markdown",
      "metadata": {
        "id": "view-in-github",
        "colab_type": "text"
      },
      "source": [
        "<a href=\"https://colab.research.google.com/github/Choi-yu-jin/pytorch/blob/main/basic_neural_network.ipynb\" target=\"_parent\"><img src=\"https://colab.research.google.com/assets/colab-badge.svg\" alt=\"Open In Colab\"/></a>"
      ]
    },
    {
      "cell_type": "markdown",
      "metadata": {
        "id": "UaO8P_gwHxsA"
      },
      "source": [
        "# 파이토치로 구현하는 신경망\n",
        "\n",
        "## 신경망 모델 구현하기"
      ]
    },
    {
      "cell_type": "code",
      "execution_count": 1,
      "metadata": {
        "id": "0xRMHZsTHxsD"
      },
      "outputs": [],
      "source": [
        "import torch\n",
        "import numpy\n",
        "from sklearn.datasets import make_blobs\n",
        "import matplotlib.pyplot as plt"
      ]
    },
    {
      "cell_type": "code",
      "execution_count": 2,
      "metadata": {
        "id": "BzuqDmRcHxsE"
      },
      "outputs": [],
      "source": [
        "n_dim = 2\n",
        "x_train, y_train = make_blobs(n_samples=80, n_features=n_dim, centers=[[1,1],[-1,-1],[1,-1],[-1,1]], shuffle=True, cluster_std=0.3)\n",
        "x_test, y_test = make_blobs(n_samples=20, n_features=n_dim, centers=[[1,1],[-1,-1],[1,-1],[-1,1]], shuffle=True, cluster_std=0.3)"
      ]
    },
    {
      "cell_type": "markdown",
      "source": [
        "x_train, y_train 데이터셋은 신경망 학습에 쓰이는 데이터와 레이블\n",
        "x_test, y_test 데이터셋은 학습이 끝난 신경망의 성능 평가 및 실험\n"
      ],
      "metadata": {
        "id": "1M38GGaAH8OE"
      }
    },
    {
      "cell_type": "code",
      "execution_count": 3,
      "metadata": {
        "id": "Ki8yT07uHxsF"
      },
      "outputs": [],
      "source": [
        "def label_map(y_, from_, to_):\n",
        "    y = numpy.copy(y_)\n",
        "    for f in from_:\n",
        "        y[y_ == f] = to_\n",
        "    return y\n",
        "\n",
        "y_train = label_map(y_train, [0, 1], 0)\n",
        "y_train = label_map(y_train, [2, 3], 1)\n",
        "y_test = label_map(y_test, [0, 1], 0)\n",
        "y_test = label_map(y_test, [2, 3], 1)"
      ]
    },
    {
      "cell_type": "code",
      "execution_count": 4,
      "metadata": {
        "colab": {
          "base_uri": "https://localhost:8080/",
          "height": 265
        },
        "id": "OfM2yeVuHxsF",
        "outputId": "3d3884b1-af46-451b-f76b-63a89d9c3c34"
      },
      "outputs": [
        {
          "output_type": "display_data",
          "data": {
            "text/plain": [
              "<Figure size 432x288 with 1 Axes>"
            ],
            "image/png": "[encoded data removed]"
          },
          "metadata": {
            "needs_background": "light"
          }
        }
      ],
      "source": [
        "def vis_data(x,y = None, c = 'r'):\n",
        "    if y is None:\n",
        "        y = [None] * len(x)\n",
        "    for x_, y_ in zip(x,y):\n",
        "        if y_ is None:\n",
        "            plt.plot(x_[0], x_[1], '*',markerfacecolor='none', markeredgecolor=c)\n",
        "        else:\n",
        "            plt.plot(x_[0], x_[1], c+'o' if y_ == 0 else c+'+')\n",
        "\n",
        "plt.figure()\n",
        "vis_data(x_train, y_train, c='r')\n",
        "plt.show()"
      ]
    },
    {
      "cell_type": "code",
      "execution_count": 5,
      "metadata": {
        "colab": {
          "base_uri": "https://localhost:8080/"
        },
        "id": "RTIBxoqTHxsG",
        "outputId": "87b255ea-5b69-4b73-c6fc-88d4975003c6"
      },
      "outputs": [
        {
          "output_type": "stream",
          "name": "stdout",
          "text": [
            "torch.Size([80, 2])\n"
          ]
        }
      ],
      "source": [
        "x_train = torch.FloatTensor(x_train)\n",
        "print(x_train.shape)\n",
        "x_test = torch.FloatTensor(x_test)\n",
        "y_train = torch.FloatTensor(y_train)\n",
        "y_test = torch.FloatTensor(y_test)"
      ]
    },
    {
      "cell_type": "code",
      "execution_count": 6,
      "metadata": {
        "id": "5MRcEUl6HxsH"
      },
      "outputs": [],
      "source": [
        "class NeuralNet(torch.nn.Module):\n",
        "        def __init__(self, input_size, hidden_size):\n",
        "            super(NeuralNet, self).__init__()\n",
        "            self.input_size = input_size\n",
        "            self.hidden_size  = hidden_size\n",
        "            self.linear_1 = torch.nn.Linear(self.input_size, self.hidden_size)\n",
        "            self.relu = torch.nn.ReLU()\n",
        "            self.linear_2 = torch.nn.Linear(self.hidden_size, 1)\n",
        "            self.sigmoid = torch.nn.Sigmoid()\n",
        "            \n",
        "        def forward(self, input_tensor):\n",
        "            linear1 = self.linear_1(input_tensor)\n",
        "            relu = self.relu(linear1)\n",
        "            linear2 = self.linear_2(relu)\n",
        "            output = self.sigmoid(linear2)\n",
        "            return output"
      ]
    },
    {
      "cell_type": "code",
      "execution_count": 7,
      "metadata": {
        "id": "7BK0u6dkHxsH"
      },
      "outputs": [],
      "source": [
        "model = NeuralNet(2, 5)\n",
        "learning_rate = 0.03\n",
        "criterion = torch.nn.BCELoss()\n",
        "epochs = 2000\n",
        "optimizer = torch.optim.SGD(model.parameters(), lr = learning_rate)"
      ]
    },
    {
      "cell_type": "code",
      "execution_count": 8,
      "metadata": {
        "colab": {
          "base_uri": "https://localhost:8080/"
        },
        "id": "RaCA7DVOHxsH",
        "outputId": "d82f71c1-e02e-4b0b-a2d8-2486f7994321"
      },
      "outputs": [
        {
          "output_type": "stream",
          "name": "stdout",
          "text": [
            "Before Training, test loss is 0.7778376340866089\n"
          ]
        }
      ],
      "source": [
        "model.eval()\n",
        "test_loss_before = criterion(model(x_test).squeeze(), y_test)\n",
        "print('Before Training, test loss is {}'.format(test_loss_before.item()))"
      ]
    },
    {
      "cell_type": "code",
      "execution_count": 9,
      "metadata": {
        "scrolled": true,
        "colab": {
          "base_uri": "https://localhost:8080/"
        },
        "id": "J3hp2jZiHxsI",
        "outputId": "8e201a08-4af3-466a-89a3-1a83ca0d3062"
      },
      "outputs": [
        {
          "output_type": "stream",
          "name": "stdout",
          "text": [
            "Train loss at 0 is 0.8151230812072754\n",
            "Train loss at 100 is 0.6691346168518066\n",
            "Train loss at 200 is 0.5853686332702637\n",
            "Train loss at 300 is 0.5037266612052917\n",
            "Train loss at 400 is 0.42662185430526733\n",
            "Train loss at 500 is 0.3507891595363617\n",
            "Train loss at 600 is 0.27669039368629456\n",
            "Train loss at 700 is 0.21032658219337463\n",
            "Train loss at 800 is 0.15911714732646942\n",
            "Train loss at 900 is 0.1212899312376976\n",
            "Train loss at 1000 is 0.0948132872581482\n",
            "Train loss at 1100 is 0.07665000855922699\n",
            "Train loss at 1200 is 0.06364074349403381\n",
            "Train loss at 1300 is 0.05399470403790474\n",
            "Train loss at 1400 is 0.04664420336484909\n",
            "Train loss at 1500 is 0.040891870856285095\n",
            "Train loss at 1600 is 0.03629378229379654\n",
            "Train loss at 1700 is 0.03254694491624832\n",
            "Train loss at 1800 is 0.02944435179233551\n",
            "Train loss at 1900 is 0.02683916687965393\n"
          ]
        }
      ],
      "source": [
        "for epoch in range(epochs):\n",
        "    model.train()\n",
        "    optimizer.zero_grad()\n",
        "    train_output = model(x_train)\n",
        "    train_loss = criterion(train_output.squeeze(), y_train)\n",
        "    if epoch % 100 == 0:\n",
        "        print('Train loss at {} is {}'.format(epoch, train_loss.item()))\n",
        "    train_loss.backward()\n",
        "    optimizer.step()"
      ]
    },
    {
      "cell_type": "code",
      "execution_count": 10,
      "metadata": {
        "colab": {
          "base_uri": "https://localhost:8080/"
        },
        "id": "YCOC7t38HxsJ",
        "outputId": "f95c7338-931e-4753-dd21-0a208d5aa61f"
      },
      "outputs": [
        {
          "output_type": "stream",
          "name": "stdout",
          "text": [
            "After Training, test loss is 0.015038417652249336\n"
          ]
        }
      ],
      "source": [
        "model.eval()\n",
        "test_loss = criterion(torch.squeeze(model(x_test)), y_test)\n",
        "print('After Training, test loss is {}'.format(test_loss.item()))"
      ]
    },
    {
      "cell_type": "code",
      "execution_count": 11,
      "metadata": {
        "colab": {
          "base_uri": "https://localhost:8080/"
        },
        "id": "BDyqfqJgHxsJ",
        "outputId": "8487e5f4-fa5e-42e1-c9c6-cba4f1abfe6c"
      },
      "outputs": [
        {
          "output_type": "stream",
          "name": "stdout",
          "text": [
            "state_dict format of the model: OrderedDict([('linear_1.weight', tensor([[ 1.5768,  1.7543],\n",
            "        [-1.5755,  1.9118],\n",
            "        [ 1.3231, -0.5825],\n",
            "        [ 1.1409, -0.8708],\n",
            "        [-1.3966, -0.8367]])), ('linear_1.bias', tensor([-0.1646, -0.2613,  0.5308, -0.1601,  0.6050])), ('linear_2.weight', tensor([[-2.2030,  2.3661,  1.3229,  1.2192, -1.6021]])), ('linear_2.bias', tensor([-0.2288]))])\n"
          ]
        }
      ],
      "source": [
        "torch.save(model.state_dict(), './model.pt')\n",
        "print('state_dict format of the model: {}'.format(model.state_dict()))"
      ]
    },
    {
      "cell_type": "code",
      "execution_count": 12,
      "metadata": {
        "colab": {
          "base_uri": "https://localhost:8080/"
        },
        "id": "2ni1XpkMHxsK",
        "outputId": "a197835a-bb16-4c88-c735-49a4e8fea194"
      },
      "outputs": [
        {
          "output_type": "stream",
          "name": "stdout",
          "text": [
            "벡터 [-1, 1]이 레이블 1을 가질 확률은 0.9959676265716553\n"
          ]
        }
      ],
      "source": [
        "new_model = NeuralNet(2, 5)\n",
        "new_model.load_state_dict(torch.load('./model.pt'))\n",
        "new_model.eval()\n",
        "print('벡터 [-1, 1]이 레이블 1을 가질 확률은 {}'.format(new_model(torch.FloatTensor([-1,1])).item()))"
      ]
    }
  ],
  "metadata": {
    "kernelspec": {
      "display_name": "Python 3 (ipykernel)",
      "language": "python",
      "name": "python3"
    },
    "language_info": {
      "codemirror_mode": {
        "name": "ipython",
        "version": 3
      },
      "file_extension": ".py",
      "mimetype": "text/x-python",
      "name": "python",
      "nbconvert_exporter": "python",
      "pygments_lexer": "ipython3",
      "version": "3.9.13"
    },
    "colab": {
      "provenance": [],
      "include_colab_link": true
    }
  },
  "nbformat": 4,
  "nbformat_minor": 0
}